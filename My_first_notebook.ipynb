{
  "nbformat": 4,
  "nbformat_minor": 0,
  "metadata": {
    "colab": {
      "name": "My first notebook.ipynb",
      "provenance": [],
      "mount_file_id": "1pIkN2tqoss7jWHCJi9JZCq4wVbCpSIzW",
      "authorship_tag": "ABX9TyNEjEjQKoa2P8oR9gbtbGY6",
      "include_colab_link": true
    },
    "kernelspec": {
      "name": "python3",
      "display_name": "Python 3"
    },
    "language_info": {
      "name": "python"
    }
  },
  "cells": [
    {
      "cell_type": "markdown",
      "metadata": {
        "id": "view-in-github",
        "colab_type": "text"
      },
      "source": [
        "<a href=\"https://colab.research.google.com/github/Mona9608/My-first-repo/blob/main/My_first_notebook.ipynb\" target=\"_parent\"><img src=\"https://colab.research.google.com/assets/colab-badge.svg\" alt=\"Open In Colab\"/></a>"
      ]
    },
    {
      "cell_type": "markdown",
      "metadata": {
        "id": "mjjmt_BCL0DW"
      },
      "source": [
        "#BA765 section 2  \n",
        "## this is my first notebook \n",
        "This class has been **pretty** *quite* so far"
      ]
    },
    {
      "cell_type": "code",
      "metadata": {
        "colab": {
          "base_uri": "https://localhost:8080/"
        },
        "id": "TCUu7bO3I1Ca",
        "outputId": "6ed93e7b-3a34-477e-e4a4-a8bd5f879d6c"
      },
      "source": [
        "print(\"Hello,world\")"
      ],
      "execution_count": 2,
      "outputs": [
        {
          "output_type": "stream",
          "text": [
            "Hello,world\n"
          ],
          "name": "stdout"
        }
      ]
    },
    {
      "cell_type": "code",
      "metadata": {
        "colab": {
          "base_uri": "https://localhost:8080/"
        },
        "id": "G6P7gFnBJ6n5",
        "outputId": "81f904d8-2e52-4aec-a157-82681ea58bde"
      },
      "source": [
        "2+2"
      ],
      "execution_count": 3,
      "outputs": [
        {
          "output_type": "execute_result",
          "data": {
            "text/plain": [
              "4"
            ]
          },
          "metadata": {
            "tags": []
          },
          "execution_count": 3
        }
      ]
    },
    {
      "cell_type": "markdown",
      "metadata": {
        "id": "I0TQzwz9Nx7M"
      },
      "source": [
        "\n",
        "\n",
        "```\n",
        "if X>Z:\n",
        "  print(\"X is great\")\n",
        "```\n",
        "\n"
      ]
    }
  ]
}